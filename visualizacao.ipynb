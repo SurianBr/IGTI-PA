{
 "cells": [
  {
   "cell_type": "code",
   "execution_count": 1,
   "metadata": {},
   "outputs": [],
   "source": [
    "import pandas"
   ]
  },
  {
   "cell_type": "code",
   "execution_count": null,
   "metadata": {},
   "outputs": [],
   "source": [
    "df = pandas.read_parquet('arquivos/har/vra/')\n",
    "#df = pandas.read_parquet('arquivos/res/vra/')"
   ]
  },
  {
   "cell_type": "code",
   "execution_count": 2,
   "metadata": {},
   "outputs": [],
   "source": [
    "df = pandas.read_parquet('arquivos/har/empresas/')"
   ]
  },
  {
   "cell_type": "code",
   "execution_count": 4,
   "metadata": {},
   "outputs": [
    {
     "data": {
      "text/html": [
       "<div>\n",
       "<style scoped>\n",
       "    .dataframe tbody tr th:only-of-type {\n",
       "        vertical-align: middle;\n",
       "    }\n",
       "\n",
       "    .dataframe tbody tr th {\n",
       "        vertical-align: top;\n",
       "    }\n",
       "\n",
       "    .dataframe thead th {\n",
       "        text-align: right;\n",
       "    }\n",
       "</style>\n",
       "<table border=\"1\" class=\"dataframe\">\n",
       "  <thead>\n",
       "    <tr style=\"text-align: right;\">\n",
       "      <th></th>\n",
       "      <th>id</th>\n",
       "      <th>nome</th>\n",
       "      <th>apelido</th>\n",
       "      <th>iata</th>\n",
       "      <th>icao</th>\n",
       "      <th>indicativo_chamada</th>\n",
       "      <th>pais</th>\n",
       "      <th>ativo</th>\n",
       "    </tr>\n",
       "  </thead>\n",
       "  <tbody>\n",
       "    <tr>\n",
       "      <th>0</th>\n",
       "      <td>2</td>\n",
       "      <td>135 Airways</td>\n",
       "      <td>None</td>\n",
       "      <td>None</td>\n",
       "      <td>GNL</td>\n",
       "      <td>GENERAL</td>\n",
       "      <td>United States</td>\n",
       "      <td>N</td>\n",
       "    </tr>\n",
       "    <tr>\n",
       "      <th>1</th>\n",
       "      <td>3</td>\n",
       "      <td>1Time Airline</td>\n",
       "      <td>None</td>\n",
       "      <td>1T</td>\n",
       "      <td>RNX</td>\n",
       "      <td>NEXTIME</td>\n",
       "      <td>South Africa</td>\n",
       "      <td>S</td>\n",
       "    </tr>\n",
       "    <tr>\n",
       "      <th>2</th>\n",
       "      <td>4</td>\n",
       "      <td>2 Sqn No 1 Elementary Flying Training School</td>\n",
       "      <td>None</td>\n",
       "      <td>None</td>\n",
       "      <td>WYT</td>\n",
       "      <td>None</td>\n",
       "      <td>United Kingdom</td>\n",
       "      <td>N</td>\n",
       "    </tr>\n",
       "    <tr>\n",
       "      <th>3</th>\n",
       "      <td>5</td>\n",
       "      <td>213 Flight Unit</td>\n",
       "      <td>None</td>\n",
       "      <td>None</td>\n",
       "      <td>TFU</td>\n",
       "      <td>None</td>\n",
       "      <td>Russia</td>\n",
       "      <td>N</td>\n",
       "    </tr>\n",
       "    <tr>\n",
       "      <th>4</th>\n",
       "      <td>6</td>\n",
       "      <td>223 Flight Unit State Airline</td>\n",
       "      <td>None</td>\n",
       "      <td>None</td>\n",
       "      <td>CHD</td>\n",
       "      <td>CHKALOVSK-AVIA</td>\n",
       "      <td>Russia</td>\n",
       "      <td>N</td>\n",
       "    </tr>\n",
       "    <tr>\n",
       "      <th>...</th>\n",
       "      <td>...</td>\n",
       "      <td>...</td>\n",
       "      <td>...</td>\n",
       "      <td>...</td>\n",
       "      <td>...</td>\n",
       "      <td>...</td>\n",
       "      <td>...</td>\n",
       "      <td>...</td>\n",
       "    </tr>\n",
       "    <tr>\n",
       "      <th>6155</th>\n",
       "      <td>21248</td>\n",
       "      <td>GX Airlines</td>\n",
       "      <td>None</td>\n",
       "      <td>None</td>\n",
       "      <td>CBG</td>\n",
       "      <td>SPRAY</td>\n",
       "      <td>China</td>\n",
       "      <td>S</td>\n",
       "    </tr>\n",
       "    <tr>\n",
       "      <th>6156</th>\n",
       "      <td>21251</td>\n",
       "      <td>Lynx Aviation (L3/SSX)</td>\n",
       "      <td>None</td>\n",
       "      <td>None</td>\n",
       "      <td>SSX</td>\n",
       "      <td>Shasta</td>\n",
       "      <td>United States</td>\n",
       "      <td>N</td>\n",
       "    </tr>\n",
       "    <tr>\n",
       "      <th>6157</th>\n",
       "      <td>21268</td>\n",
       "      <td>Jetgo Australia</td>\n",
       "      <td>None</td>\n",
       "      <td>JG</td>\n",
       "      <td>None</td>\n",
       "      <td>None</td>\n",
       "      <td>Australia</td>\n",
       "      <td>S</td>\n",
       "    </tr>\n",
       "    <tr>\n",
       "      <th>6158</th>\n",
       "      <td>21270</td>\n",
       "      <td>Air Carnival</td>\n",
       "      <td>None</td>\n",
       "      <td>2S</td>\n",
       "      <td>None</td>\n",
       "      <td>None</td>\n",
       "      <td>India</td>\n",
       "      <td>S</td>\n",
       "    </tr>\n",
       "    <tr>\n",
       "      <th>6159</th>\n",
       "      <td>21317</td>\n",
       "      <td>Svyaz Rossiya</td>\n",
       "      <td>Russian Commuter</td>\n",
       "      <td>7R</td>\n",
       "      <td>SJM</td>\n",
       "      <td>RussianConnecty</td>\n",
       "      <td>Russia</td>\n",
       "      <td>S</td>\n",
       "    </tr>\n",
       "  </tbody>\n",
       "</table>\n",
       "<p>6160 rows × 8 columns</p>\n",
       "</div>"
      ],
      "text/plain": [
       "         id                                          nome            apelido  \\\n",
       "0         2                                   135 Airways               None   \n",
       "1         3                                 1Time Airline               None   \n",
       "2         4  2 Sqn No 1 Elementary Flying Training School               None   \n",
       "3         5                               213 Flight Unit               None   \n",
       "4         6                 223 Flight Unit State Airline               None   \n",
       "...     ...                                           ...                ...   \n",
       "6155  21248                                   GX Airlines               None   \n",
       "6156  21251                        Lynx Aviation (L3/SSX)               None   \n",
       "6157  21268                               Jetgo Australia               None   \n",
       "6158  21270                                  Air Carnival               None   \n",
       "6159  21317                                 Svyaz Rossiya  Russian Commuter    \n",
       "\n",
       "      iata  icao indicativo_chamada            pais ativo  \n",
       "0     None   GNL            GENERAL   United States     N  \n",
       "1       1T   RNX            NEXTIME    South Africa     S  \n",
       "2     None   WYT               None  United Kingdom     N  \n",
       "3     None   TFU               None          Russia     N  \n",
       "4     None   CHD     CHKALOVSK-AVIA          Russia     N  \n",
       "...    ...   ...                ...             ...   ...  \n",
       "6155  None   CBG              SPRAY           China     S  \n",
       "6156  None   SSX             Shasta   United States     N  \n",
       "6157    JG  None               None       Australia     S  \n",
       "6158    2S  None               None           India     S  \n",
       "6159    7R   SJM    RussianConnecty          Russia     S  \n",
       "\n",
       "[6160 rows x 8 columns]"
      ]
     },
     "execution_count": 4,
     "metadata": {},
     "output_type": "execute_result"
    }
   ],
   "source": [
    "df"
   ]
  },
  {
   "cell_type": "code",
   "execution_count": 8,
   "metadata": {},
   "outputs": [
    {
     "data": {
      "text/plain": [
       "5349"
      ]
     },
     "execution_count": 8,
     "metadata": {},
     "output_type": "execute_result"
    }
   ],
   "source": [
    "df.index[df['icao'] == 'VRN'].to_list()[0]"
   ]
  },
  {
   "cell_type": "code",
   "execution_count": 9,
   "metadata": {},
   "outputs": [],
   "source": [
    "df.iat[df.index[df['icao'] == 'VRN'].to_list()[0], 7] = 'N'"
   ]
  },
  {
   "cell_type": "code",
   "execution_count": 10,
   "metadata": {},
   "outputs": [
    {
     "data": {
      "text/html": [
       "<div>\n",
       "<style scoped>\n",
       "    .dataframe tbody tr th:only-of-type {\n",
       "        vertical-align: middle;\n",
       "    }\n",
       "\n",
       "    .dataframe tbody tr th {\n",
       "        vertical-align: top;\n",
       "    }\n",
       "\n",
       "    .dataframe thead th {\n",
       "        text-align: right;\n",
       "    }\n",
       "</style>\n",
       "<table border=\"1\" class=\"dataframe\">\n",
       "  <thead>\n",
       "    <tr style=\"text-align: right;\">\n",
       "      <th></th>\n",
       "      <th>id</th>\n",
       "      <th>nome</th>\n",
       "      <th>apelido</th>\n",
       "      <th>iata</th>\n",
       "      <th>icao</th>\n",
       "      <th>indicativo_chamada</th>\n",
       "      <th>pais</th>\n",
       "      <th>ativo</th>\n",
       "    </tr>\n",
       "  </thead>\n",
       "  <tbody>\n",
       "    <tr>\n",
       "      <th>5349</th>\n",
       "      <td>5368</td>\n",
       "      <td>VRG Linhas Aereas</td>\n",
       "      <td>Varig</td>\n",
       "      <td>RG</td>\n",
       "      <td>VRN</td>\n",
       "      <td>VARIG</td>\n",
       "      <td>Brazil</td>\n",
       "      <td>N</td>\n",
       "    </tr>\n",
       "  </tbody>\n",
       "</table>\n",
       "</div>"
      ],
      "text/plain": [
       "        id               nome apelido iata icao indicativo_chamada    pais  \\\n",
       "5349  5368  VRG Linhas Aereas   Varig   RG  VRN              VARIG  Brazil   \n",
       "\n",
       "     ativo  \n",
       "5349     N  "
      ]
     },
     "execution_count": 10,
     "metadata": {},
     "output_type": "execute_result"
    }
   ],
   "source": [
    "df[df['icao'] == 'VRN']"
   ]
  },
  {
   "cell_type": "code",
   "execution_count": 16,
   "metadata": {},
   "outputs": [],
   "source": [
    "df.loc[len(df.index)] = [999999, 'Varig Linhas Aereas', 'Varig', 'RG', 'VRG', 'VARIG', 'Brazil', 'N']"
   ]
  },
  {
   "cell_type": "code",
   "execution_count": 17,
   "metadata": {},
   "outputs": [
    {
     "data": {
      "text/html": [
       "<div>\n",
       "<style scoped>\n",
       "    .dataframe tbody tr th:only-of-type {\n",
       "        vertical-align: middle;\n",
       "    }\n",
       "\n",
       "    .dataframe tbody tr th {\n",
       "        vertical-align: top;\n",
       "    }\n",
       "\n",
       "    .dataframe thead th {\n",
       "        text-align: right;\n",
       "    }\n",
       "</style>\n",
       "<table border=\"1\" class=\"dataframe\">\n",
       "  <thead>\n",
       "    <tr style=\"text-align: right;\">\n",
       "      <th></th>\n",
       "      <th>id</th>\n",
       "      <th>nome</th>\n",
       "      <th>apelido</th>\n",
       "      <th>iata</th>\n",
       "      <th>icao</th>\n",
       "      <th>indicativo_chamada</th>\n",
       "      <th>pais</th>\n",
       "      <th>ativo</th>\n",
       "    </tr>\n",
       "  </thead>\n",
       "  <tbody>\n",
       "    <tr>\n",
       "      <th>6162</th>\n",
       "      <td>999999</td>\n",
       "      <td>Varig Linhas Aereas</td>\n",
       "      <td>Varig</td>\n",
       "      <td>RG</td>\n",
       "      <td>VRG</td>\n",
       "      <td>VARIG</td>\n",
       "      <td>Brazil</td>\n",
       "      <td>N</td>\n",
       "    </tr>\n",
       "  </tbody>\n",
       "</table>\n",
       "</div>"
      ],
      "text/plain": [
       "          id                 nome apelido iata icao indicativo_chamada  \\\n",
       "6162  999999  Varig Linhas Aereas   Varig   RG  VRG              VARIG   \n",
       "\n",
       "        pais ativo  \n",
       "6162  Brazil     N  "
      ]
     },
     "execution_count": 17,
     "metadata": {},
     "output_type": "execute_result"
    }
   ],
   "source": [
    "df[df['icao'] == 'VRG']"
   ]
  },
  {
   "cell_type": "code",
   "execution_count": null,
   "metadata": {},
   "outputs": [],
   "source": [
    "df_icao_empresa_aerea = df[['icao_empresa_aerea']].groupby('icao_empresa_aerea').count()\n",
    "\n",
    "df_icao_empresa_aerea"
   ]
  },
  {
   "cell_type": "code",
   "execution_count": null,
   "metadata": {},
   "outputs": [],
   "source": [
    "df[df['icao_empresa_aerea'] == '010']"
   ]
  },
  {
   "cell_type": "code",
   "execution_count": null,
   "metadata": {},
   "outputs": [],
   "source": [
    "df['icao_empresa_aerea'] = df['icao_empresa_aerea'].replace('010', None)\n",
    "df[df['icao_empresa_aerea'] == '010']"
   ]
  },
  {
   "cell_type": "code",
   "execution_count": null,
   "metadata": {},
   "outputs": [],
   "source": [
    "df[df['icao_empresa_aerea'] == '060']"
   ]
  },
  {
   "cell_type": "code",
   "execution_count": null,
   "metadata": {},
   "outputs": [],
   "source": [
    "df_numero_voo = df[['numero_voo']].groupby('numero_voo').count()\n",
    "df_numero_voo"
   ]
  },
  {
   "cell_type": "code",
   "execution_count": null,
   "metadata": {},
   "outputs": [],
   "source": [
    "df_numero_voo.to_csv('numero_voo.csv')"
   ]
  },
  {
   "cell_type": "code",
   "execution_count": null,
   "metadata": {},
   "outputs": [],
   "source": [
    "df[df['numero_voo'] == 'Z9969']"
   ]
  },
  {
   "cell_type": "code",
   "execution_count": null,
   "metadata": {},
   "outputs": [],
   "source": [
    "df_codigo_autorizacao = df[['codigo_autorizacao']].groupby('codigo_autorizacao').count()\n",
    "df_codigo_autorizacao"
   ]
  },
  {
   "cell_type": "code",
   "execution_count": null,
   "metadata": {},
   "outputs": [],
   "source": [
    "df['codigo_autorizacao'] = df['codigo_autorizacao'].replace(\n",
    "    [\n",
    "        '0.0',\n",
    "        '1.0',\n",
    "        '2.0',\n",
    "        '3.0',\n",
    "        '4.0',\n",
    "        '5.0',\n",
    "        '6.0',\n",
    "        '7.0',\n",
    "        '8.0',\n",
    "        '9.0'\n",
    "    ],\n",
    "    [\n",
    "        '0',\n",
    "        '1',\n",
    "        '2',\n",
    "        '3',\n",
    "        '4',\n",
    "        '5',\n",
    "        '6',\n",
    "        '7',\n",
    "        '8',\n",
    "        '9'\n",
    "    ]\n",
    ")\n",
    "df_codigo_autorizacao"
   ]
  },
  {
   "cell_type": "code",
   "execution_count": null,
   "metadata": {},
   "outputs": [],
   "source": [
    "df_codigo_autorizacao = df[['codigo_autorizacao']].groupby('codigo_autorizacao').count()\n",
    "df_codigo_autorizacao"
   ]
  },
  {
   "cell_type": "code",
   "execution_count": null,
   "metadata": {},
   "outputs": [],
   "source": [
    "df[df['codigo_autorizacao'] == '?'].codigo_autorizacao"
   ]
  },
  {
   "cell_type": "code",
   "execution_count": null,
   "metadata": {},
   "outputs": [],
   "source": [
    "df[df['codigo_autorizacao'] == '2.0']"
   ]
  },
  {
   "cell_type": "code",
   "execution_count": null,
   "metadata": {},
   "outputs": [],
   "source": [
    "df_codigo_tipo_linha = df[['codigo_tipo_linha']].groupby('codigo_tipo_linha').count()\n",
    "df_codigo_tipo_linha"
   ]
  },
  {
   "cell_type": "code",
   "execution_count": null,
   "metadata": {},
   "outputs": [],
   "source": [
    "df_icao_aerodromo_origem = df[['icao_aerodromo_origem']].groupby('icao_aerodromo_origem', as_index=False).count()\n",
    "df_icao_aerodromo_origem"
   ]
  },
  {
   "cell_type": "code",
   "execution_count": null,
   "metadata": {},
   "outputs": [],
   "source": [
    "df_icao_aerodromo_origem.to_csv('icao_aerodromo_origem.csv')"
   ]
  },
  {
   "cell_type": "code",
   "execution_count": null,
   "metadata": {},
   "outputs": [],
   "source": [
    "df_aerodromos = pandas.read_parquet('arquivos/har/aerodromos/')\n",
    "df_aerodromos\n",
    "\n"
   ]
  },
  {
   "cell_type": "code",
   "execution_count": null,
   "metadata": {},
   "outputs": [],
   "source": [
    "nao_encontrados = df_icao_aerodromo_origem.rename(columns={'icao_aerodromo_origem': 'icao'}).merge(df_aerodromos[['id', 'icao']], how='left', suffixes=('_left', '_right'))\n",
    "nao_encontrados"
   ]
  },
  {
   "cell_type": "code",
   "execution_count": null,
   "metadata": {},
   "outputs": [],
   "source": [
    "nao_encontrados_final = nao_encontrados[nao_encontrados['id'].isna()][['icao']]\n",
    "nao_encontrados_final"
   ]
  },
  {
   "cell_type": "code",
   "execution_count": null,
   "metadata": {},
   "outputs": [],
   "source": [
    "nao_encontrados_final.to_csv('nao_encontrados_origem.csv')"
   ]
  },
  {
   "cell_type": "code",
   "execution_count": null,
   "metadata": {},
   "outputs": [],
   "source": [
    "df[df['icao_aerodromo_origem'] == '0GMM']"
   ]
  },
  {
   "cell_type": "code",
   "execution_count": null,
   "metadata": {},
   "outputs": [],
   "source": [
    "df[df['icao_aerodromo_origem'] == '????']"
   ]
  },
  {
   "cell_type": "code",
   "execution_count": null,
   "metadata": {},
   "outputs": [],
   "source": [
    "df[df['icao_aerodromo_origem'] == 'X']"
   ]
  },
  {
   "cell_type": "code",
   "execution_count": null,
   "metadata": {},
   "outputs": [],
   "source": [
    "df[df['icao_aerodromo_origem'] == '0']"
   ]
  },
  {
   "cell_type": "code",
   "execution_count": null,
   "metadata": {},
   "outputs": [],
   "source": [
    "df_icao_aerodromo_destino = df[['icao_aerodromo_destino']].groupby('icao_aerodromo_destino', as_index=False).count()\n",
    "df_icao_aerodromo_destino"
   ]
  },
  {
   "cell_type": "code",
   "execution_count": null,
   "metadata": {},
   "outputs": [],
   "source": [
    "df_icao_aerodromo_destino.to_csv('icao_aerodromo_destino.csv')"
   ]
  },
  {
   "cell_type": "code",
   "execution_count": null,
   "metadata": {},
   "outputs": [],
   "source": [
    "df[df['icao_aerodromo_destino'] == '????']"
   ]
  },
  {
   "cell_type": "code",
   "execution_count": null,
   "metadata": {},
   "outputs": [],
   "source": [
    "nao_encontrados = df_icao_aerodromo_destino.rename(columns={'icao_aerodromo_destino': 'icao'}).merge(df_aerodromos[['id', 'icao']], how='left', suffixes=('_left', '_right'))\n",
    "nao_encontrados"
   ]
  },
  {
   "cell_type": "code",
   "execution_count": null,
   "metadata": {},
   "outputs": [],
   "source": [
    "nao_encontrados_final = nao_encontrados[nao_encontrados['id'].isna()][['icao']]\n",
    "nao_encontrados_final"
   ]
  },
  {
   "cell_type": "code",
   "execution_count": null,
   "metadata": {},
   "outputs": [],
   "source": [
    "nao_encontrados_final.to_csv('nao_encontrados_destino.csv')"
   ]
  },
  {
   "cell_type": "code",
   "execution_count": null,
   "metadata": {},
   "outputs": [],
   "source": [
    "df_data_partida_prevista = df[['data_partida_prevista']].groupby('data_partida_prevista').count()\n",
    "df_data_partida_prevista"
   ]
  },
  {
   "cell_type": "code",
   "execution_count": null,
   "metadata": {},
   "outputs": [],
   "source": [
    "df[df['data_partida_prevista'] == 'Microsoft.SqlServer.Dts.Pipeline.BlobColumn']"
   ]
  },
  {
   "cell_type": "code",
   "execution_count": null,
   "metadata": {},
   "outputs": [],
   "source": [
    "df_situacao_voo = df[['situacao_voo']].groupby('situacao_voo').count()\n",
    "df_situacao_voo"
   ]
  },
  {
   "cell_type": "code",
   "execution_count": null,
   "metadata": {},
   "outputs": [],
   "source": [
    "df[df['situacao_voo'] == 'Microsoft.SqlServer.Dts.Pipeline.BlobColumn']"
   ]
  },
  {
   "cell_type": "code",
   "execution_count": null,
   "metadata": {},
   "outputs": [],
   "source": [
    "df_codigo_justificativa = df[['codigo_justificativa']].groupby('codigo_justificativa').count()\n",
    "df_codigo_justificativa"
   ]
  },
  {
   "cell_type": "code",
   "execution_count": null,
   "metadata": {},
   "outputs": [],
   "source": [
    "df_codigo_justificativa.to_csv('codigo_justificativa.csv')"
   ]
  },
  {
   "cell_type": "code",
   "execution_count": null,
   "metadata": {},
   "outputs": [],
   "source": [
    "df[df['codigo_justificativa'] == '??']"
   ]
  },
  {
   "cell_type": "code",
   "execution_count": 1,
   "metadata": {},
   "outputs": [],
   "source": [
    "import pyspark\n",
    "from pyspark.sql import SparkSession\n",
    "spark=SparkSession.builder.appName(\"teste\").getOrCreate()"
   ]
  },
  {
   "cell_type": "code",
   "execution_count": 2,
   "metadata": {},
   "outputs": [],
   "source": [
    "df=spark.read.parquet('arquivos/res/vra/vra_final.snappy.parquet')\n",
    "df.createOrReplaceTempView('vra')"
   ]
  },
  {
   "cell_type": "code",
   "execution_count": 3,
   "metadata": {},
   "outputs": [],
   "source": [
    "df_aerodromos=spark.read.parquet('arquivos/har/aerodromos/aerodromos.snappy.parquet')\n",
    "df_aerodromos.createOrReplaceTempView('aerodromos')"
   ]
  },
  {
   "cell_type": "code",
   "execution_count": 6,
   "metadata": {},
   "outputs": [],
   "source": [
    "df_empresas=spark.read.parquet('arquivos/har/empresas/empresas.snappy.parquet')\n",
    "df_empresas.createOrReplaceTempView('empresas')"
   ]
  },
  {
   "cell_type": "code",
   "execution_count": 7,
   "metadata": {},
   "outputs": [
    {
     "name": "stdout",
     "output_type": "stream",
     "text": [
      "+---+--------------------+-------+----+----+------------------+--------------+-----+\n",
      "| id|                nome|apelido|iata|icao|indicativo_chamada|          pais|ativo|\n",
      "+---+--------------------+-------+----+----+------------------+--------------+-----+\n",
      "|  2|         135 Airways|   null|null| GNL|           GENERAL| United States|    N|\n",
      "|  3|       1Time Airline|   null|  1T| RNX|           NEXTIME|  South Africa|    S|\n",
      "|  4|2 Sqn No 1 Elemen...|   null|null| WYT|              null|United Kingdom|    N|\n",
      "|  5|     213 Flight Unit|   null|null| TFU|              null|        Russia|    N|\n",
      "|  6|223 Flight Unit S...|   null|null| CHD|    CHKALOVSK-AVIA|        Russia|    N|\n",
      "|  7|   224th Flight Unit|   null|null| TTF|        CARGO UNIT|        Russia|    N|\n",
      "|  8|         247 Jet Ltd|   null|null| TWF|      CLOUD RUNNER|United Kingdom|    N|\n",
      "|  9|         3D Aviation|   null|null| SEC|           SECUREX| United States|    N|\n",
      "| 10|         40-Mile Air|   null|  Q5| MLA|          MILE-AIR| United States|    S|\n",
      "| 11|              4D Air|   null|null| QRT|           QUARTET|      Thailand|    N|\n",
      "| 12|611897 Alberta Li...|   null|null| THD|             DONUT|        Canada|    N|\n",
      "| 13|    Ansett Australia|   null|  AN| AAA|            ANSETT|     Australia|    S|\n",
      "| 14|Abacus International|   null|  1B|null|              null|     Singapore|    S|\n",
      "| 15|     Abelag Aviation|   null|  W9| AAB|               ABG|       Belgium|    N|\n",
      "| 16|      Army Air Corps|   null|null| AAC|           ARMYAIR|United Kingdom|    N|\n",
      "| 17|Aero Aviation Cen...|   null|null| AAD|           SUNRISE|        Canada|    N|\n",
      "| 18|Aero Servicios Ej...|   null|null| SII|            ASEISA|        Mexico|    N|\n",
      "| 19|         Aero Biniza|   null|null| BZS|            BINIZA|        Mexico|    N|\n",
      "| 20|       Aero Albatros|   null|null| ABM|   ALBATROS ESPANA|         Spain|    N|\n",
      "| 21|          Aigle Azur|   null|  ZI| AAF|        AIGLE AZUR|        France|    S|\n",
      "+---+--------------------+-------+----+----+------------------+--------------+-----+\n",
      "only showing top 20 rows\n",
      "\n"
     ]
    }
   ],
   "source": [
    "df_empresas.show()"
   ]
  },
  {
   "cell_type": "code",
   "execution_count": null,
   "metadata": {},
   "outputs": [],
   "source": [
    "df.show(truncate=False)"
   ]
  },
  {
   "cell_type": "code",
   "execution_count": null,
   "metadata": {},
   "outputs": [],
   "source": [
    "df_aerodromos.show(truncate=False)"
   ]
  },
  {
   "cell_type": "code",
   "execution_count": null,
   "metadata": {},
   "outputs": [],
   "source": [
    "# Visualização home page\n",
    "query = (\n",
    "    ' SELECT ano_voo, COUNT(1) as quantidade_voos'\n",
    "    ' FROM vra'\n",
    "    ' GROUP BY ano_voo'\n",
    "    ' ORDER BY ano_voo ASC'\n",
    ")\n",
    "resultado = spark.sql(query)\n",
    "resultado.show()"
   ]
  },
  {
   "cell_type": "code",
   "execution_count": null,
   "metadata": {},
   "outputs": [],
   "source": [
    "resultado_dict = resultado.toPandas().to_dict(orient='list')\n",
    "resultado_dict"
   ]
  },
  {
   "cell_type": "code",
   "execution_count": null,
   "metadata": {},
   "outputs": [],
   "source": [
    "print('x: {0}'.format(resultado_dict['ano_voo']).replace('\\'', ''))"
   ]
  },
  {
   "cell_type": "code",
   "execution_count": null,
   "metadata": {},
   "outputs": [],
   "source": [
    "str(resultado_dict['ano_voo'])"
   ]
  },
  {
   "cell_type": "code",
   "execution_count": null,
   "metadata": {},
   "outputs": [],
   "source": [
    "# Visualização home page\n",
    "df.createOrReplaceTempView('vra')\n",
    "query = (\n",
    "    ' SELECT icao_aerodromo_origem '\n",
    "    ' FROM vra'\n",
    "    ' WHERE icao_aerodromo_origem = \"????\"'\n",
    ")\n",
    "resultado = spark.sql(query)\n",
    "resultado.show()"
   ]
  },
  {
   "cell_type": "code",
   "execution_count": null,
   "metadata": {},
   "outputs": [],
   "source": [
    "# Visualização home page\n",
    "df.createOrReplaceTempView('vra')\n",
    "query = (\n",
    "    ' SELECT data_partida_prevista '\n",
    "    ' FROM vra'\n",
    "    ' WHERE data_partida_prevista = \"Microsoft.SqlServer.Dts.Pipeline.BlobColumn\"'\n",
    ")\n",
    "resultado = spark.sql(query)\n",
    "resultado.show()"
   ]
  },
  {
   "cell_type": "code",
   "execution_count": null,
   "metadata": {},
   "outputs": [],
   "source": [
    "# Visualização home page\n",
    "query = (\n",
    "    ' SELECT COUNT(1) as quantidade_voos'\n",
    "    ' FROM vra'\n",
    ")\n",
    "resultado = spark.sql(query)\n",
    "resultado.show()"
   ]
  },
  {
   "cell_type": "code",
   "execution_count": null,
   "metadata": {},
   "outputs": [],
   "source": [
    "query = (\n",
    "    ' SELECT icao_aerodromo_origem, icao_aerodromo_destino,  COUNT(1) as quantidade_voos'\n",
    "    ' FROM vra'\n",
    "    ' GROUP BY icao_aerodromo_origem, icao_aerodromo_destino'\n",
    "    ' ORDER BY quantidade_voos DESC'\n",
    ")\n",
    "rotas = spark.sql(query)\n",
    "rotas.createOrReplaceTempView('rotas')\n",
    "rotas.show()"
   ]
  },
  {
   "cell_type": "code",
   "execution_count": null,
   "metadata": {},
   "outputs": [],
   "source": [
    "query = (\n",
    "    ' SELECT aerodromos.nome as aerodromo_origem, aerodromos.municipio as municipio_origem, icao_aerodromo_destino, quantidade_voos'\n",
    "    ' FROM rotas'\n",
    "    ' INNER JOIN aerodromos'\n",
    "    ' ON rotas.icao_aerodromo_origem = aerodromos.icao'\n",
    "    ' ORDER BY quantidade_voos DESC '\n",
    ")\n",
    "resultado = spark.sql(query)\n",
    "resultado.createOrReplaceTempView('rotas_origem')\n",
    "resultado.show()"
   ]
  },
  {
   "cell_type": "code",
   "execution_count": null,
   "metadata": {},
   "outputs": [],
   "source": [
    "query = (\n",
    "    ' SELECT aerodromo_origem, municipio_origem, aerodromos.nome as aerodromo_destino, aerodromos.municipio as municipio_destino, quantidade_voos'\n",
    "    ' FROM rotas_origem'\n",
    "    ' INNER JOIN aerodromos'\n",
    "    ' ON rotas_origem.icao_aerodromo_destino = aerodromos.icao'\n",
    "    ' ORDER BY quantidade_voos DESC '\n",
    "    ' LIMIT 20'\n",
    ")\n",
    "resultado = spark.sql(query)\n",
    "resultado.createOrReplaceTempView('rotas_destino')\n",
    "resultado.show()"
   ]
  },
  {
   "cell_type": "code",
   "execution_count": null,
   "metadata": {},
   "outputs": [],
   "source": [
    "resultado.toPandas().to_dict(orient='list')"
   ]
  },
  {
   "cell_type": "code",
   "execution_count": null,
   "metadata": {},
   "outputs": [],
   "source": [
    "query = (\n",
    "    ' SELECT icao_aerodromo_origem, COUNT(1) as decolagens'\n",
    "    ' FROM vra'\n",
    "    ' GROUP BY icao_aerodromo_origem'\n",
    "    ' ORDER BY decolagens DESC'\n",
    ")\n",
    "decolagens = spark.sql(query)\n",
    "decolagens.createOrReplaceTempView('decolagens')\n",
    "decolagens.show()"
   ]
  },
  {
   "cell_type": "code",
   "execution_count": null,
   "metadata": {},
   "outputs": [],
   "source": [
    "query = (\n",
    "    ' SELECT icao_aerodromo_destino, COUNT(1) as aterrisagens'\n",
    "    ' FROM vra'\n",
    "    ' GROUP BY icao_aerodromo_destino'\n",
    "    ' ORDER BY aterrisagens DESC'\n",
    ")\n",
    "aterrisagens = spark.sql(query)\n",
    "aterrisagens.createOrReplaceTempView('aterrisagens')\n",
    "aterrisagens.show()"
   ]
  },
  {
   "cell_type": "code",
   "execution_count": null,
   "metadata": {},
   "outputs": [],
   "source": [
    "query = (\n",
    "    ' SELECT decolagens.icao_aerodromo_origem as aerodromo, decolagens, aterrisagens, (decolagens+aterrisagens) as total'\n",
    "    ' FROM decolagens'\n",
    "    ' INNER JOIN aterrisagens'\n",
    "    ' ON decolagens.icao_aerodromo_origem = aterrisagens.icao_aerodromo_destino'\n",
    "    ' ORDER BY total DESC'\n",
    ")\n",
    "aerodromos_mais_usados = spark.sql(query)\n",
    "aerodromos_mais_usados.createOrReplaceTempView('aerodromos_mais_usados')\n",
    "aerodromos_mais_usados.show()"
   ]
  },
  {
   "cell_type": "code",
   "execution_count": null,
   "metadata": {},
   "outputs": [],
   "source": [
    "query = (\n",
    "    ' SELECT nome, municipio, decolagens, aterrisagens, total'\n",
    "    ' FROM aerodromos_mais_usados'\n",
    "    ' INNER JOIN aerodromos'\n",
    "    ' ON aerodromo = icao'\n",
    "    ' AND pais_iso = \"BR\"'\n",
    "    ' ORDER BY total DESC'\n",
    "    ' LIMIT 20'\n",
    ")\n",
    "aerodromos_mais_usados_final = spark.sql(query)\n",
    "aerodromos_mais_usados_final.createOrReplaceTempView('aerodromos_mais_usados_final')\n",
    "aerodromos_mais_usados_final.show()"
   ]
  },
  {
   "cell_type": "code",
   "execution_count": null,
   "metadata": {},
   "outputs": [],
   "source": [
    "# Visualização home page\n",
    "query = (\n",
    "    ' SELECT ano_voo, COUNT(1) as quantidade_voos'\n",
    "    ' FROM vra'\n",
    "    ' GROUP BY ano_voo'\n",
    "    ' ORDER BY ano_voo ASC'\n",
    ")\n",
    "resultado = spark.sql(query)\n",
    "resultado.show()"
   ]
  },
  {
   "cell_type": "code",
   "execution_count": null,
   "metadata": {},
   "outputs": [],
   "source": [
    "dict = resultado.toPandas().to_dict(orient=\"list\")"
   ]
  },
  {
   "cell_type": "code",
   "execution_count": null,
   "metadata": {},
   "outputs": [],
   "source": [
    "keys = list(dict.keys())"
   ]
  },
  {
   "cell_type": "code",
   "execution_count": null,
   "metadata": {},
   "outputs": [],
   "source": [
    "keys"
   ]
  },
  {
   "cell_type": "code",
   "execution_count": null,
   "metadata": {},
   "outputs": [],
   "source": [
    "for i in range(len(dict[keys[0]])):\n",
    "    string = ''\n",
    "    for key in keys:\n",
    "        string += '{0} '.format(dict[key][i])\n",
    "    print(string)\n"
   ]
  },
  {
   "cell_type": "code",
   "execution_count": null,
   "metadata": {},
   "outputs": [],
   "source": [
    "# Visualização home page\n",
    "query = (\n",
    "    ' SELECT *'\n",
    "    ' FROM empresas'\n",
    ")\n",
    "resultado = spark.sql(query)\n",
    "resultado.show()"
   ]
  }
 ],
 "metadata": {
  "kernelspec": {
   "display_name": "Python 3.10.2 64-bit",
   "language": "python",
   "name": "python3"
  },
  "language_info": {
   "codemirror_mode": {
    "name": "ipython",
    "version": 3
   },
   "file_extension": ".py",
   "mimetype": "text/x-python",
   "name": "python",
   "nbconvert_exporter": "python",
   "pygments_lexer": "ipython3",
   "version": "3.10.2"
  },
  "orig_nbformat": 4,
  "vscode": {
   "interpreter": {
    "hash": "0619652e4c6714cc2e09c746f0d59f4119dbd18208011d3e2239349b2d1fc4fc"
   }
  }
 },
 "nbformat": 4,
 "nbformat_minor": 2
}
