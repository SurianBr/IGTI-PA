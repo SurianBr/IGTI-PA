{
 "cells": [
  {
   "cell_type": "code",
   "execution_count": null,
   "metadata": {},
   "outputs": [],
   "source": [
    "import pandas"
   ]
  },
  {
   "cell_type": "code",
   "execution_count": null,
   "metadata": {},
   "outputs": [],
   "source": [
    "df = pandas.read_parquet('arquivos/har/vra/')\n",
    "#df = pandas.read_parquet('arquivos/res/vra/')"
   ]
  },
  {
   "cell_type": "code",
   "execution_count": null,
   "metadata": {},
   "outputs": [],
   "source": [
    "df"
   ]
  },
  {
   "cell_type": "code",
   "execution_count": null,
   "metadata": {},
   "outputs": [],
   "source": [
    "df_icao_empresa_aerea = df[['icao_empresa_aerea']].groupby('icao_empresa_aerea').count()\n",
    "\n",
    "df_icao_empresa_aerea"
   ]
  },
  {
   "cell_type": "code",
   "execution_count": null,
   "metadata": {},
   "outputs": [],
   "source": [
    "df[df['icao_empresa_aerea'] == '010']"
   ]
  },
  {
   "cell_type": "code",
   "execution_count": null,
   "metadata": {},
   "outputs": [],
   "source": [
    "df['icao_empresa_aerea'] = df['icao_empresa_aerea'].replace('010', None)\n",
    "df[df['icao_empresa_aerea'] == '010']"
   ]
  },
  {
   "cell_type": "code",
   "execution_count": null,
   "metadata": {},
   "outputs": [],
   "source": [
    "df[df['icao_empresa_aerea'] == '060']"
   ]
  },
  {
   "cell_type": "code",
   "execution_count": null,
   "metadata": {},
   "outputs": [],
   "source": [
    "df_numero_voo = df[['numero_voo']].groupby('numero_voo').count()\n",
    "df_numero_voo"
   ]
  },
  {
   "cell_type": "code",
   "execution_count": null,
   "metadata": {},
   "outputs": [],
   "source": [
    "df_numero_voo.to_csv('numero_voo.csv')"
   ]
  },
  {
   "cell_type": "code",
   "execution_count": null,
   "metadata": {},
   "outputs": [],
   "source": [
    "df[df['numero_voo'] == 'Z9969']"
   ]
  },
  {
   "cell_type": "code",
   "execution_count": null,
   "metadata": {},
   "outputs": [],
   "source": [
    "df_codigo_autorizacao = df[['codigo_autorizacao']].groupby('codigo_autorizacao').count()\n",
    "df_codigo_autorizacao"
   ]
  },
  {
   "cell_type": "code",
   "execution_count": null,
   "metadata": {},
   "outputs": [],
   "source": [
    "df['codigo_autorizacao'] = df['codigo_autorizacao'].replace(\n",
    "    [\n",
    "        '0.0',\n",
    "        '1.0',\n",
    "        '2.0',\n",
    "        '3.0',\n",
    "        '4.0',\n",
    "        '5.0',\n",
    "        '6.0',\n",
    "        '7.0',\n",
    "        '8.0',\n",
    "        '9.0'\n",
    "    ],\n",
    "    [\n",
    "        '0',\n",
    "        '1',\n",
    "        '2',\n",
    "        '3',\n",
    "        '4',\n",
    "        '5',\n",
    "        '6',\n",
    "        '7',\n",
    "        '8',\n",
    "        '9'\n",
    "    ]\n",
    ")\n",
    "df_codigo_autorizacao"
   ]
  },
  {
   "cell_type": "code",
   "execution_count": null,
   "metadata": {},
   "outputs": [],
   "source": [
    "df_codigo_autorizacao = df[['codigo_autorizacao']].groupby('codigo_autorizacao').count()\n",
    "df_codigo_autorizacao"
   ]
  },
  {
   "cell_type": "code",
   "execution_count": null,
   "metadata": {},
   "outputs": [],
   "source": [
    "df[df['codigo_autorizacao'] == '?'].codigo_autorizacao"
   ]
  },
  {
   "cell_type": "code",
   "execution_count": null,
   "metadata": {},
   "outputs": [],
   "source": [
    "df[df['codigo_autorizacao'] == '2.0']"
   ]
  },
  {
   "cell_type": "code",
   "execution_count": null,
   "metadata": {},
   "outputs": [],
   "source": [
    "df_codigo_tipo_linha = df[['codigo_tipo_linha']].groupby('codigo_tipo_linha').count()\n",
    "df_codigo_tipo_linha"
   ]
  },
  {
   "cell_type": "code",
   "execution_count": null,
   "metadata": {},
   "outputs": [],
   "source": [
    "df_icao_aerodromo_origem = df[['icao_aerodromo_origem']].groupby('icao_aerodromo_origem', as_index=False).count()\n",
    "df_icao_aerodromo_origem"
   ]
  },
  {
   "cell_type": "code",
   "execution_count": null,
   "metadata": {},
   "outputs": [],
   "source": [
    "df_icao_aerodromo_origem.to_csv('icao_aerodromo_origem.csv')"
   ]
  },
  {
   "cell_type": "code",
   "execution_count": null,
   "metadata": {},
   "outputs": [],
   "source": [
    "df_aerodromos = pandas.read_parquet('arquivos/har/aerodromos/')\n",
    "df_aerodromos\n",
    "\n"
   ]
  },
  {
   "cell_type": "code",
   "execution_count": null,
   "metadata": {},
   "outputs": [],
   "source": [
    "nao_encontrados = df_icao_aerodromo_origem.rename(columns={'icao_aerodromo_origem': 'icao'}).merge(df_aerodromos[['id', 'icao']], how='left', suffixes=('_left', '_right'))\n",
    "nao_encontrados"
   ]
  },
  {
   "cell_type": "code",
   "execution_count": null,
   "metadata": {},
   "outputs": [],
   "source": [
    "nao_encontrados_final = nao_encontrados[nao_encontrados['id'].isna()][['icao']]\n",
    "nao_encontrados_final"
   ]
  },
  {
   "cell_type": "code",
   "execution_count": null,
   "metadata": {},
   "outputs": [],
   "source": [
    "nao_encontrados_final.to_csv('nao_encontrados_origem.csv')"
   ]
  },
  {
   "cell_type": "code",
   "execution_count": null,
   "metadata": {},
   "outputs": [],
   "source": [
    "df[df['icao_aerodromo_origem'] == '0GMM']"
   ]
  },
  {
   "cell_type": "code",
   "execution_count": null,
   "metadata": {},
   "outputs": [],
   "source": [
    "df[df['icao_aerodromo_origem'] == '????']"
   ]
  },
  {
   "cell_type": "code",
   "execution_count": null,
   "metadata": {},
   "outputs": [],
   "source": [
    "df[df['icao_aerodromo_origem'] == 'X']"
   ]
  },
  {
   "cell_type": "code",
   "execution_count": null,
   "metadata": {},
   "outputs": [],
   "source": [
    "df[df['icao_aerodromo_origem'] == '0']"
   ]
  },
  {
   "cell_type": "code",
   "execution_count": null,
   "metadata": {},
   "outputs": [],
   "source": [
    "df_icao_aerodromo_destino = df[['icao_aerodromo_destino']].groupby('icao_aerodromo_destino', as_index=False).count()\n",
    "df_icao_aerodromo_destino"
   ]
  },
  {
   "cell_type": "code",
   "execution_count": null,
   "metadata": {},
   "outputs": [],
   "source": [
    "df_icao_aerodromo_destino.to_csv('icao_aerodromo_destino.csv')"
   ]
  },
  {
   "cell_type": "code",
   "execution_count": null,
   "metadata": {},
   "outputs": [],
   "source": [
    "df[df['icao_aerodromo_destino'] == '????']"
   ]
  },
  {
   "cell_type": "code",
   "execution_count": null,
   "metadata": {},
   "outputs": [],
   "source": [
    "nao_encontrados = df_icao_aerodromo_destino.rename(columns={'icao_aerodromo_destino': 'icao'}).merge(df_aerodromos[['id', 'icao']], how='left', suffixes=('_left', '_right'))\n",
    "nao_encontrados"
   ]
  },
  {
   "cell_type": "code",
   "execution_count": null,
   "metadata": {},
   "outputs": [],
   "source": [
    "nao_encontrados_final = nao_encontrados[nao_encontrados['id'].isna()][['icao']]\n",
    "nao_encontrados_final"
   ]
  },
  {
   "cell_type": "code",
   "execution_count": null,
   "metadata": {},
   "outputs": [],
   "source": [
    "nao_encontrados_final.to_csv('nao_encontrados_destino.csv')"
   ]
  },
  {
   "cell_type": "code",
   "execution_count": null,
   "metadata": {},
   "outputs": [],
   "source": [
    "df_data_partida_prevista = df[['data_partida_prevista']].groupby('data_partida_prevista').count()\n",
    "df_data_partida_prevista"
   ]
  },
  {
   "cell_type": "code",
   "execution_count": null,
   "metadata": {},
   "outputs": [],
   "source": [
    "df[df['data_partida_prevista'] == 'Microsoft.SqlServer.Dts.Pipeline.BlobColumn']"
   ]
  },
  {
   "cell_type": "code",
   "execution_count": null,
   "metadata": {},
   "outputs": [],
   "source": [
    "df_situacao_voo = df[['situacao_voo']].groupby('situacao_voo').count()\n",
    "df_situacao_voo"
   ]
  },
  {
   "cell_type": "code",
   "execution_count": null,
   "metadata": {},
   "outputs": [],
   "source": [
    "df[df['situacao_voo'] == 'Microsoft.SqlServer.Dts.Pipeline.BlobColumn']"
   ]
  },
  {
   "cell_type": "code",
   "execution_count": null,
   "metadata": {},
   "outputs": [],
   "source": [
    "df_codigo_justificativa = df[['codigo_justificativa']].groupby('codigo_justificativa').count()\n",
    "df_codigo_justificativa"
   ]
  },
  {
   "cell_type": "code",
   "execution_count": null,
   "metadata": {},
   "outputs": [],
   "source": [
    "df_codigo_justificativa.to_csv('codigo_justificativa.csv')"
   ]
  },
  {
   "cell_type": "code",
   "execution_count": null,
   "metadata": {},
   "outputs": [],
   "source": [
    "df[df['codigo_justificativa'] == '??']"
   ]
  },
  {
   "cell_type": "code",
   "execution_count": 1,
   "metadata": {},
   "outputs": [],
   "source": [
    "import pyspark\n",
    "from pyspark.sql import SparkSession\n",
    "spark=SparkSession.builder.appName(\"teste\").getOrCreate()"
   ]
  },
  {
   "cell_type": "code",
   "execution_count": 2,
   "metadata": {},
   "outputs": [],
   "source": [
    "df=spark.read.parquet('arquivos/res/vra/vra_final.snappy.parquet')\n",
    "df.createOrReplaceTempView('vra')"
   ]
  },
  {
   "cell_type": "code",
   "execution_count": 3,
   "metadata": {},
   "outputs": [],
   "source": [
    "df_aerodromos=spark.read.parquet('arquivos/har/aerodromos/aerodromos.snappy.parquet')\n",
    "df_aerodromos.createOrReplaceTempView('aerodromos')"
   ]
  },
  {
   "cell_type": "code",
   "execution_count": 4,
   "metadata": {},
   "outputs": [],
   "source": [
    "df_empresas=spark.read.parquet('arquivos/har/empresas/empresas.snappy.parquet')\n",
    "df_empresas.createOrReplaceTempView('empresas')"
   ]
  },
  {
   "cell_type": "code",
   "execution_count": 5,
   "metadata": {},
   "outputs": [
    {
     "name": "stdout",
     "output_type": "stream",
     "text": [
      "+---+--------------------+-------+----+----+------------------+--------------+-----+\n",
      "| id|                nome|apelido|iata|icao|indicativo_chamada|          pais|ativo|\n",
      "+---+--------------------+-------+----+----+------------------+--------------+-----+\n",
      "|  2|         135 Airways|     \\N|null| GNL|           GENERAL| United States|    N|\n",
      "|  3|       1Time Airline|     \\N|  1T| RNX|           NEXTIME|  South Africa|    S|\n",
      "|  4|2 Sqn No 1 Elemen...|     \\N|null| WYT|              null|United Kingdom|    N|\n",
      "|  5|     213 Flight Unit|     \\N|null| TFU|              null|        Russia|    N|\n",
      "|  6|223 Flight Unit S...|     \\N|null| CHD|    CHKALOVSK-AVIA|        Russia|    N|\n",
      "|  7|   224th Flight Unit|     \\N|null| TTF|        CARGO UNIT|        Russia|    N|\n",
      "|  8|         247 Jet Ltd|     \\N|null| TWF|      CLOUD RUNNER|United Kingdom|    N|\n",
      "|  9|         3D Aviation|     \\N|null| SEC|           SECUREX| United States|    N|\n",
      "| 10|         40-Mile Air|     \\N|  Q5| MLA|          MILE-AIR| United States|    S|\n",
      "| 11|              4D Air|     \\N|null| QRT|           QUARTET|      Thailand|    N|\n",
      "| 12|611897 Alberta Li...|     \\N|null| THD|             DONUT|        Canada|    N|\n",
      "| 13|    Ansett Australia|     \\N|  AN| AAA|            ANSETT|     Australia|    S|\n",
      "| 14|Abacus International|     \\N|  1B|null|              null|     Singapore|    S|\n",
      "| 15|     Abelag Aviation|     \\N|  W9| AAB|               ABG|       Belgium|    N|\n",
      "| 16|      Army Air Corps|     \\N|null| AAC|           ARMYAIR|United Kingdom|    N|\n",
      "| 17|Aero Aviation Cen...|     \\N|null| AAD|           SUNRISE|        Canada|    N|\n",
      "| 18|Aero Servicios Ej...|     \\N|null| SII|            ASEISA|        Mexico|    N|\n",
      "| 19|         Aero Biniza|     \\N|null| BZS|            BINIZA|        Mexico|    N|\n",
      "| 20|       Aero Albatros|     \\N|null| ABM|   ALBATROS ESPANA|         Spain|    N|\n",
      "| 21|          Aigle Azur|     \\N|  ZI| AAF|        AIGLE AZUR|        France|    S|\n",
      "+---+--------------------+-------+----+----+------------------+--------------+-----+\n",
      "only showing top 20 rows\n",
      "\n"
     ]
    }
   ],
   "source": [
    "df_empresas.show()"
   ]
  },
  {
   "cell_type": "code",
   "execution_count": null,
   "metadata": {},
   "outputs": [],
   "source": [
    "df.show(truncate=False)"
   ]
  },
  {
   "cell_type": "code",
   "execution_count": null,
   "metadata": {},
   "outputs": [],
   "source": [
    "df_aerodromos.show(truncate=False)"
   ]
  },
  {
   "cell_type": "code",
   "execution_count": null,
   "metadata": {},
   "outputs": [],
   "source": [
    "# Visualização home page\n",
    "query = (\n",
    "    ' SELECT ano_voo, COUNT(1) as quantidade_voos'\n",
    "    ' FROM vra'\n",
    "    ' GROUP BY ano_voo'\n",
    "    ' ORDER BY ano_voo ASC'\n",
    ")\n",
    "resultado = spark.sql(query)\n",
    "resultado.show()"
   ]
  },
  {
   "cell_type": "code",
   "execution_count": null,
   "metadata": {},
   "outputs": [],
   "source": [
    "resultado_dict = resultado.toPandas().to_dict(orient='list')\n",
    "resultado_dict"
   ]
  },
  {
   "cell_type": "code",
   "execution_count": null,
   "metadata": {},
   "outputs": [],
   "source": [
    "print('x: {0}'.format(resultado_dict['ano_voo']).replace('\\'', ''))"
   ]
  },
  {
   "cell_type": "code",
   "execution_count": null,
   "metadata": {},
   "outputs": [],
   "source": [
    "str(resultado_dict['ano_voo'])"
   ]
  },
  {
   "cell_type": "code",
   "execution_count": null,
   "metadata": {},
   "outputs": [],
   "source": [
    "# Visualização home page\n",
    "df.createOrReplaceTempView('vra')\n",
    "query = (\n",
    "    ' SELECT icao_aerodromo_origem '\n",
    "    ' FROM vra'\n",
    "    ' WHERE icao_aerodromo_origem = \"????\"'\n",
    ")\n",
    "resultado = spark.sql(query)\n",
    "resultado.show()"
   ]
  },
  {
   "cell_type": "code",
   "execution_count": null,
   "metadata": {},
   "outputs": [],
   "source": [
    "# Visualização home page\n",
    "df.createOrReplaceTempView('vra')\n",
    "query = (\n",
    "    ' SELECT data_partida_prevista '\n",
    "    ' FROM vra'\n",
    "    ' WHERE data_partida_prevista = \"Microsoft.SqlServer.Dts.Pipeline.BlobColumn\"'\n",
    ")\n",
    "resultado = spark.sql(query)\n",
    "resultado.show()"
   ]
  },
  {
   "cell_type": "code",
   "execution_count": null,
   "metadata": {},
   "outputs": [],
   "source": [
    "# Visualização home page\n",
    "query = (\n",
    "    ' SELECT COUNT(1) as quantidade_voos'\n",
    "    ' FROM vra'\n",
    ")\n",
    "resultado = spark.sql(query)\n",
    "resultado.show()"
   ]
  },
  {
   "cell_type": "code",
   "execution_count": null,
   "metadata": {},
   "outputs": [],
   "source": [
    "query = (\n",
    "    ' SELECT icao_aerodromo_origem, icao_aerodromo_destino,  COUNT(1) as quantidade_voos'\n",
    "    ' FROM vra'\n",
    "    ' GROUP BY icao_aerodromo_origem, icao_aerodromo_destino'\n",
    "    ' ORDER BY quantidade_voos DESC'\n",
    ")\n",
    "rotas = spark.sql(query)\n",
    "rotas.createOrReplaceTempView('rotas')\n",
    "rotas.show()"
   ]
  },
  {
   "cell_type": "code",
   "execution_count": null,
   "metadata": {},
   "outputs": [],
   "source": [
    "query = (\n",
    "    ' SELECT aerodromos.nome as aerodromo_origem, aerodromos.municipio as municipio_origem, icao_aerodromo_destino, quantidade_voos'\n",
    "    ' FROM rotas'\n",
    "    ' INNER JOIN aerodromos'\n",
    "    ' ON rotas.icao_aerodromo_origem = aerodromos.icao'\n",
    "    ' ORDER BY quantidade_voos DESC '\n",
    ")\n",
    "resultado = spark.sql(query)\n",
    "resultado.createOrReplaceTempView('rotas_origem')\n",
    "resultado.show()"
   ]
  },
  {
   "cell_type": "code",
   "execution_count": null,
   "metadata": {},
   "outputs": [],
   "source": [
    "query = (\n",
    "    ' SELECT aerodromo_origem, municipio_origem, aerodromos.nome as aerodromo_destino, aerodromos.municipio as municipio_destino, quantidade_voos'\n",
    "    ' FROM rotas_origem'\n",
    "    ' INNER JOIN aerodromos'\n",
    "    ' ON rotas_origem.icao_aerodromo_destino = aerodromos.icao'\n",
    "    ' ORDER BY quantidade_voos DESC '\n",
    "    ' LIMIT 20'\n",
    ")\n",
    "resultado = spark.sql(query)\n",
    "resultado.createOrReplaceTempView('rotas_destino')\n",
    "resultado.show()"
   ]
  },
  {
   "cell_type": "code",
   "execution_count": null,
   "metadata": {},
   "outputs": [],
   "source": [
    "resultado.toPandas().to_dict(orient='list')"
   ]
  },
  {
   "cell_type": "code",
   "execution_count": null,
   "metadata": {},
   "outputs": [],
   "source": [
    "query = (\n",
    "    ' SELECT icao_aerodromo_origem, COUNT(1) as decolagens'\n",
    "    ' FROM vra'\n",
    "    ' GROUP BY icao_aerodromo_origem'\n",
    "    ' ORDER BY decolagens DESC'\n",
    ")\n",
    "decolagens = spark.sql(query)\n",
    "decolagens.createOrReplaceTempView('decolagens')\n",
    "decolagens.show()"
   ]
  },
  {
   "cell_type": "code",
   "execution_count": null,
   "metadata": {},
   "outputs": [],
   "source": [
    "query = (\n",
    "    ' SELECT icao_aerodromo_destino, COUNT(1) as aterrisagens'\n",
    "    ' FROM vra'\n",
    "    ' GROUP BY icao_aerodromo_destino'\n",
    "    ' ORDER BY aterrisagens DESC'\n",
    ")\n",
    "aterrisagens = spark.sql(query)\n",
    "aterrisagens.createOrReplaceTempView('aterrisagens')\n",
    "aterrisagens.show()"
   ]
  },
  {
   "cell_type": "code",
   "execution_count": null,
   "metadata": {},
   "outputs": [],
   "source": [
    "query = (\n",
    "    ' SELECT decolagens.icao_aerodromo_origem as aerodromo, decolagens, aterrisagens, (decolagens+aterrisagens) as total'\n",
    "    ' FROM decolagens'\n",
    "    ' INNER JOIN aterrisagens'\n",
    "    ' ON decolagens.icao_aerodromo_origem = aterrisagens.icao_aerodromo_destino'\n",
    "    ' ORDER BY total DESC'\n",
    ")\n",
    "aerodromos_mais_usados = spark.sql(query)\n",
    "aerodromos_mais_usados.createOrReplaceTempView('aerodromos_mais_usados')\n",
    "aerodromos_mais_usados.show()"
   ]
  },
  {
   "cell_type": "code",
   "execution_count": null,
   "metadata": {},
   "outputs": [],
   "source": [
    "query = (\n",
    "    ' SELECT nome, municipio, decolagens, aterrisagens, total'\n",
    "    ' FROM aerodromos_mais_usados'\n",
    "    ' INNER JOIN aerodromos'\n",
    "    ' ON aerodromo = icao'\n",
    "    ' AND pais_iso = \"BR\"'\n",
    "    ' ORDER BY total DESC'\n",
    "    ' LIMIT 20'\n",
    ")\n",
    "aerodromos_mais_usados_final = spark.sql(query)\n",
    "aerodromos_mais_usados_final.createOrReplaceTempView('aerodromos_mais_usados_final')\n",
    "aerodromos_mais_usados_final.show()"
   ]
  },
  {
   "cell_type": "code",
   "execution_count": null,
   "metadata": {},
   "outputs": [],
   "source": [
    "# Visualização home page\n",
    "query = (\n",
    "    ' SELECT ano_voo, COUNT(1) as quantidade_voos'\n",
    "    ' FROM vra'\n",
    "    ' GROUP BY ano_voo'\n",
    "    ' ORDER BY ano_voo ASC'\n",
    ")\n",
    "resultado = spark.sql(query)\n",
    "resultado.show()"
   ]
  },
  {
   "cell_type": "code",
   "execution_count": null,
   "metadata": {},
   "outputs": [],
   "source": [
    "dict = resultado.toPandas().to_dict(orient=\"list\")"
   ]
  },
  {
   "cell_type": "code",
   "execution_count": null,
   "metadata": {},
   "outputs": [],
   "source": [
    "keys = list(dict.keys())"
   ]
  },
  {
   "cell_type": "code",
   "execution_count": null,
   "metadata": {},
   "outputs": [],
   "source": [
    "keys"
   ]
  },
  {
   "cell_type": "code",
   "execution_count": null,
   "metadata": {},
   "outputs": [],
   "source": [
    "for i in range(len(dict[keys[0]])):\n",
    "    string = ''\n",
    "    for key in keys:\n",
    "        string += '{0} '.format(dict[key][i])\n",
    "    print(string)\n"
   ]
  },
  {
   "cell_type": "code",
   "execution_count": null,
   "metadata": {},
   "outputs": [],
   "source": [
    "# Visualização home page\n",
    "query = (\n",
    "    ' SELECT *'\n",
    "    ' FROM empresas'\n",
    ")\n",
    "resultado = spark.sql(query)\n",
    "resultado.show()"
   ]
  }
 ],
 "metadata": {
  "kernelspec": {
   "display_name": "Python 3.10.2 64-bit",
   "language": "python",
   "name": "python3"
  },
  "language_info": {
   "codemirror_mode": {
    "name": "ipython",
    "version": 3
   },
   "file_extension": ".py",
   "mimetype": "text/x-python",
   "name": "python",
   "nbconvert_exporter": "python",
   "pygments_lexer": "ipython3",
   "version": "3.10.2"
  },
  "orig_nbformat": 4,
  "vscode": {
   "interpreter": {
    "hash": "0619652e4c6714cc2e09c746f0d59f4119dbd18208011d3e2239349b2d1fc4fc"
   }
  }
 },
 "nbformat": 4,
 "nbformat_minor": 2
}
